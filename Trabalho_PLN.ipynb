{
 "cells": [
  {
   "cell_type": "markdown",
   "metadata": {
    "id": "kwgF6giNGGlI"
   },
   "source": [
    "\n",
    "<b>INSTITUTO FEDERAL DE GOIÁS<br/>\n",
    "PÓS-GRADUAÇÃO EM INTELIGÊNCIA ARTIFICIAL APLICADA<br/></b>\n",
    "Disciplina: Processamento de Linguagem Natural  <br/>\n",
    "Professor: Daniel Xavier de Sousa <br/>\n",
    "Alunos: Wagner Silva, Cleibson, Marcos Rodrigues\n",
    "\n",
    "\n",
    "---\n",
    "\n"
   ]
  },
  {
   "cell_type": "markdown",
   "metadata": {
    "id": "-FhZVEluHPuF"
   },
   "source": [
    "Importação de bibliotecas básicas"
   ]
  },
  {
   "cell_type": "code",
   "execution_count": 2,
   "metadata": {
    "id": "kW0p7413oj1t",
    "tags": []
   },
   "outputs": [],
   "source": [
    "import pandas as pd\n",
    "import numpy as np\n",
    "#from google.colab import drive\n",
    "import re"
   ]
  },
  {
   "cell_type": "markdown",
   "metadata": {
    "id": "_sNSvxCOMIus"
   },
   "source": [
    "Montando driver"
   ]
  },
  {
   "cell_type": "code",
   "execution_count": 7,
   "metadata": {
    "colab": {
     "base_uri": "https://localhost:8080/"
    },
    "id": "3qLW85s_or8M",
    "outputId": "02d5c32a-f69c-40bc-8b1c-271282aee579"
   },
   "outputs": [
    {
     "name": "stdout",
     "output_type": "stream",
     "text": [
      "Drive already mounted at /content/drive/; to attempt to forcibly remount, call drive.mount(\"/content/drive/\", force_remount=True).\n"
     ]
    }
   ],
   "source": [
    "drive.mount('/content/drive/')"
   ]
  },
  {
   "cell_type": "markdown",
   "metadata": {
    "id": "n6SXkT44MOe-"
   },
   "source": [
    "Extraindo dataset"
   ]
  },
  {
   "cell_type": "code",
   "execution_count": 8,
   "metadata": {
    "colab": {
     "base_uri": "https://localhost:8080/"
    },
    "id": "LSB7OWeZpN2t",
    "outputId": "bf6773a2-f984-40ab-c71e-c24d000a1e71"
   },
   "outputs": [
    {
     "name": "stdout",
     "output_type": "stream",
     "text": [
      "Archive:  /content/drive/MyDrive/5 - Trabalho PLN/buscape.csv.zip\n",
      "replace buscape.csv? [y]es, [n]o, [A]ll, [N]one, [r]ename: "
     ]
    }
   ],
   "source": [
    "!unzip \"/content/drive/MyDrive/5 - Trabalho PLN/buscape.csv.zip\""
   ]
  },
  {
   "cell_type": "markdown",
   "metadata": {
    "id": "e4YFP71qMVpF"
   },
   "source": [
    "Leitura do dataset"
   ]
  },
  {
   "cell_type": "code",
   "execution_count": 4,
   "metadata": {
    "id": "sWpeF3pjp-S6",
    "tags": []
   },
   "outputs": [],
   "source": [
    "dados = pd.read_csv('./buscape.csv')"
   ]
  },
  {
   "cell_type": "markdown",
   "metadata": {
    "id": "OXaeuuj6Mn0n"
   },
   "source": [
    "Verificando tipo do dataset"
   ]
  },
  {
   "cell_type": "code",
   "execution_count": 5,
   "metadata": {
    "colab": {
     "base_uri": "https://localhost:8080/"
    },
    "id": "eO7_9ArwvTbb",
    "outputId": "0af6dc80-0181-44c7-995d-e2a3dba772f6",
    "tags": []
   },
   "outputs": [
    {
     "data": {
      "text/plain": [
       "pandas.core.frame.DataFrame"
      ]
     },
     "execution_count": 5,
     "metadata": {},
     "output_type": "execute_result"
    }
   ],
   "source": [
    "type(dados)"
   ]
  },
  {
   "cell_type": "markdown",
   "metadata": {
    "id": "2hEHn4h1Mzbj"
   },
   "source": [
    "Informações do Dataset original"
   ]
  },
  {
   "cell_type": "code",
   "execution_count": 6,
   "metadata": {
    "colab": {
     "base_uri": "https://localhost:8080/"
    },
    "id": "iVStFw2_vP-Q",
    "outputId": "746ce9be-9827-4ffc-f214-6b75a4cfee52",
    "tags": []
   },
   "outputs": [
    {
     "data": {
      "text/plain": [
       "(84991, 8)"
      ]
     },
     "execution_count": 6,
     "metadata": {},
     "output_type": "execute_result"
    }
   ],
   "source": [
    "dados.shape"
   ]
  },
  {
   "cell_type": "markdown",
   "metadata": {
    "id": "8GcnBt-LRE3K"
   },
   "source": [
    "Tarefa: Classificação de avaliações de clientes </br>\n",
    "Polaridade definidas nas avaliações: </br>\n",
    "Rating: 4 e 5 avaliação positiva </br>\n",
    "Rating: 1 e 2 avaliação negativa </br>\n",
    "Rating: 3 descartadas </br>\n",
    "\n",
    "\n",
    "---\n",
    "\n",
    "\n"
   ]
  },
  {
   "cell_type": "markdown",
   "metadata": {
    "id": "WtKBo8INOSdW"
   },
   "source": [
    "Observamos que existem as colunas review_text_processed e review_text_tokenized nas quais já existem o texto pré-processado, porém iremos pré-processar o texto a partir da coluna review_text na qual o texto não está pré-processado, com a intenção de demonstrar as técnicas utilizadas no pré-processamento."
   ]
  },
  {
   "cell_type": "code",
   "execution_count": 7,
   "metadata": {
    "colab": {
     "base_uri": "https://localhost:8080/",
     "height": 476
    },
    "id": "dga_QWGXwBUF",
    "outputId": "4ce698c3-cf3e-4a20-ac5a-dca0bf40f8b5",
    "tags": []
   },
   "outputs": [
    {
     "data": {
      "text/html": [
       "<div>\n",
       "<style scoped>\n",
       "    .dataframe tbody tr th:only-of-type {\n",
       "        vertical-align: middle;\n",
       "    }\n",
       "\n",
       "    .dataframe tbody tr th {\n",
       "        vertical-align: top;\n",
       "    }\n",
       "\n",
       "    .dataframe thead th {\n",
       "        text-align: right;\n",
       "    }\n",
       "</style>\n",
       "<table border=\"1\" class=\"dataframe\">\n",
       "  <thead>\n",
       "    <tr style=\"text-align: right;\">\n",
       "      <th></th>\n",
       "      <th>original_index</th>\n",
       "      <th>review_text</th>\n",
       "      <th>review_text_processed</th>\n",
       "      <th>review_text_tokenized</th>\n",
       "      <th>polarity</th>\n",
       "      <th>rating</th>\n",
       "      <th>kfold_polarity</th>\n",
       "      <th>kfold_rating</th>\n",
       "    </tr>\n",
       "  </thead>\n",
       "  <tbody>\n",
       "    <tr>\n",
       "      <th>0</th>\n",
       "      <td>4_55516</td>\n",
       "      <td>Estou muito satisfeito, o visor é melhor do qu...</td>\n",
       "      <td>estou muito satisfeito, o visor e melhor do qu...</td>\n",
       "      <td>['estou', 'muito', 'satisfeito', 'visor', 'mel...</td>\n",
       "      <td>1.0</td>\n",
       "      <td>4</td>\n",
       "      <td>1</td>\n",
       "      <td>1</td>\n",
       "    </tr>\n",
       "    <tr>\n",
       "      <th>1</th>\n",
       "      <td>minus_1_105339</td>\n",
       "      <td>\"muito boa\\n\\nO que gostei: preco\\n\\nO que não...</td>\n",
       "      <td>\"muito boa\\n\\no que gostei: preco\\n\\no que nao...</td>\n",
       "      <td>['muito', 'boa', 'que', 'gostei', 'preco', 'qu...</td>\n",
       "      <td>1.0</td>\n",
       "      <td>5</td>\n",
       "      <td>1</td>\n",
       "      <td>1</td>\n",
       "    </tr>\n",
       "    <tr>\n",
       "      <th>2</th>\n",
       "      <td>23_382139</td>\n",
       "      <td>Rápida, ótima qualidade de impressão e fácil d...</td>\n",
       "      <td>rapida, otima qualidade de impressao e facil d...</td>\n",
       "      <td>['rapida', 'otima', 'qualidade', 'de', 'impres...</td>\n",
       "      <td>1.0</td>\n",
       "      <td>5</td>\n",
       "      <td>1</td>\n",
       "      <td>1</td>\n",
       "    </tr>\n",
       "    <tr>\n",
       "      <th>3</th>\n",
       "      <td>2_446456</td>\n",
       "      <td>Produto de ótima qualidade em todos os quesito!</td>\n",
       "      <td>produto de otima qualidade em todos os quesito!</td>\n",
       "      <td>['produto', 'de', 'otima', 'qualidade', 'em', ...</td>\n",
       "      <td>1.0</td>\n",
       "      <td>5</td>\n",
       "      <td>1</td>\n",
       "      <td>1</td>\n",
       "    </tr>\n",
       "    <tr>\n",
       "      <th>4</th>\n",
       "      <td>0_11324</td>\n",
       "      <td>Precisava comprar uma tv compatível com meu dv...</td>\n",
       "      <td>precisava comprar uma tv compativel com meu dv...</td>\n",
       "      <td>['precisava', 'comprar', 'uma', 'tv', 'compati...</td>\n",
       "      <td>1.0</td>\n",
       "      <td>5</td>\n",
       "      <td>1</td>\n",
       "      <td>1</td>\n",
       "    </tr>\n",
       "  </tbody>\n",
       "</table>\n",
       "</div>"
      ],
      "text/plain": [
       "   original_index                                        review_text  \\\n",
       "0         4_55516  Estou muito satisfeito, o visor é melhor do qu...   \n",
       "1  minus_1_105339  \"muito boa\\n\\nO que gostei: preco\\n\\nO que não...   \n",
       "2       23_382139  Rápida, ótima qualidade de impressão e fácil d...   \n",
       "3        2_446456    Produto de ótima qualidade em todos os quesito!   \n",
       "4         0_11324  Precisava comprar uma tv compatível com meu dv...   \n",
       "\n",
       "                               review_text_processed  \\\n",
       "0  estou muito satisfeito, o visor e melhor do qu...   \n",
       "1  \"muito boa\\n\\no que gostei: preco\\n\\no que nao...   \n",
       "2  rapida, otima qualidade de impressao e facil d...   \n",
       "3    produto de otima qualidade em todos os quesito!   \n",
       "4  precisava comprar uma tv compativel com meu dv...   \n",
       "\n",
       "                               review_text_tokenized  polarity  rating  \\\n",
       "0  ['estou', 'muito', 'satisfeito', 'visor', 'mel...       1.0       4   \n",
       "1  ['muito', 'boa', 'que', 'gostei', 'preco', 'qu...       1.0       5   \n",
       "2  ['rapida', 'otima', 'qualidade', 'de', 'impres...       1.0       5   \n",
       "3  ['produto', 'de', 'otima', 'qualidade', 'em', ...       1.0       5   \n",
       "4  ['precisava', 'comprar', 'uma', 'tv', 'compati...       1.0       5   \n",
       "\n",
       "   kfold_polarity  kfold_rating  \n",
       "0               1             1  \n",
       "1               1             1  \n",
       "2               1             1  \n",
       "3               1             1  \n",
       "4               1             1  "
      ]
     },
     "execution_count": 7,
     "metadata": {},
     "output_type": "execute_result"
    }
   ],
   "source": [
    "dados.head()"
   ]
  },
  {
   "cell_type": "markdown",
   "metadata": {
    "id": "dNDXkkbHT4JX"
   },
   "source": [
    "Pré-processamento"
   ]
  },
  {
   "cell_type": "markdown",
   "metadata": {
    "id": "-MClpHnqT9Ye"
   },
   "source": [
    "Adição de uma nova coluna chamada review_processada_min na qual irá conter o texto de todas sentenças em lowercase."
   ]
  },
  {
   "cell_type": "code",
   "execution_count": 8,
   "metadata": {
    "id": "79cnnnKvvtbO",
    "tags": []
   },
   "outputs": [],
   "source": [
    "dados[\"review_processada_min\"] = dados.review_text.apply(lambda x: \" \".join(x.lower().split()) if isinstance(x, str) else \"\")"
   ]
  },
  {
   "cell_type": "markdown",
   "metadata": {
    "id": "KnO8ZPlVUz8z"
   },
   "source": [
    "Adição de uma nova coluna chamada review_processada_sem_urls na qual irá conter o texto de todas as sentenças em lowercase, remoção de url."
   ]
  },
  {
   "cell_type": "code",
   "execution_count": 9,
   "metadata": {
    "id": "lhH_0UGg3TLt",
    "tags": []
   },
   "outputs": [],
   "source": [
    "padrao_regex = r\"(https?://[^\\s]+|www\\.[^\\s]+)\"\n",
    "\n",
    "def remover_urls(texto):\n",
    "  texto_sem_url = re.sub(padrao_regex, \"\", str(texto))\n",
    "  return texto_sem_url\n",
    "\n",
    "dados[\"review_processada_sem_urls\"] = dados[\"review_processada_min\"].apply(remover_urls)"
   ]
  },
  {
   "cell_type": "markdown",
   "metadata": {
    "id": "bBGs0mQdWeSn"
   },
   "source": [
    "Adição de uma nova coluna chamada review_processada_sem_caracters na qual irá conter o texto de todas as sentenças em lowercase, remoção de url e remoção de caracteres especiais."
   ]
  },
  {
   "cell_type": "code",
   "execution_count": 10,
   "metadata": {
    "id": "G3U9CkGtt1on",
    "tags": []
   },
   "outputs": [],
   "source": [
    "dados[\"review_processada_sem_caracters\"] = dados.review_processada_sem_urls.apply(lambda x: re.sub(r'[^\\w\\d ,]', '', x))"
   ]
  },
  {
   "cell_type": "markdown",
   "metadata": {
    "id": "gQNGaQwdc5QZ"
   },
   "source": [
    "Verificando instâncias nulas"
   ]
  },
  {
   "cell_type": "code",
   "execution_count": 11,
   "metadata": {
    "colab": {
     "base_uri": "https://localhost:8080/"
    },
    "id": "T39q_jyLcNzc",
    "outputId": "09b7314c-977f-47e7-f54f-3c3fdfed2486",
    "tags": []
   },
   "outputs": [
    {
     "data": {
      "text/plain": [
       "original_index                     False\n",
       "review_text                         True\n",
       "review_text_processed               True\n",
       "review_text_tokenized              False\n",
       "polarity                            True\n",
       "rating                             False\n",
       "kfold_polarity                     False\n",
       "kfold_rating                       False\n",
       "review_processada_min              False\n",
       "review_processada_sem_urls         False\n",
       "review_processada_sem_caracters    False\n",
       "dtype: bool"
      ]
     },
     "execution_count": 11,
     "metadata": {},
     "output_type": "execute_result"
    }
   ],
   "source": [
    "dados.isnull().any()"
   ]
  },
  {
   "cell_type": "markdown",
   "metadata": {
    "id": "WWr9CFmxeDHs"
   },
   "source": [
    "Quantidade de valores nulos de cada instância verificada anteriormente"
   ]
  },
  {
   "cell_type": "code",
   "execution_count": 12,
   "metadata": {
    "colab": {
     "base_uri": "https://localhost:8080/"
    },
    "id": "uaYuzBmPdIFS",
    "outputId": "b9b5719a-1854-475f-adc1-cc6680e5c022",
    "tags": []
   },
   "outputs": [
    {
     "name": "stdout",
     "output_type": "stream",
     "text": [
      "review_text =  1\n",
      "review_text_processed =  1\n",
      "polarity =  11364\n"
     ]
    }
   ],
   "source": [
    "print('review_text = ', dados['review_text'].isnull().sum())\n",
    "print('review_text_processed = ', dados['review_text_processed'].isnull().sum())\n",
    "print('polarity = ', dados['polarity'].isnull().sum())"
   ]
  },
  {
   "cell_type": "code",
   "execution_count": 13,
   "metadata": {
    "tags": []
   },
   "outputs": [],
   "source": [
    "dados = dados.dropna()"
   ]
  },
  {
   "cell_type": "code",
   "execution_count": 14,
   "metadata": {
    "tags": []
   },
   "outputs": [
    {
     "data": {
      "text/plain": [
       "(73626, 11)"
      ]
     },
     "execution_count": 14,
     "metadata": {},
     "output_type": "execute_result"
    }
   ],
   "source": [
    "dados.shape"
   ]
  },
  {
   "cell_type": "markdown",
   "metadata": {
    "id": "tvrusePBOMpd"
   },
   "source": [
    "Reorganizando colunas"
   ]
  },
  {
   "cell_type": "code",
   "execution_count": 15,
   "metadata": {
    "id": "F-y5J4u3jm6J",
    "tags": []
   },
   "outputs": [],
   "source": [
    "new_cols = ['original_index', 'review_processada_sem_caracters', 'rating']\n",
    "dados = dados[new_cols]"
   ]
  },
  {
   "cell_type": "code",
   "execution_count": 16,
   "metadata": {
    "tags": []
   },
   "outputs": [
    {
     "data": {
      "text/html": [
       "<div>\n",
       "<style scoped>\n",
       "    .dataframe tbody tr th:only-of-type {\n",
       "        vertical-align: middle;\n",
       "    }\n",
       "\n",
       "    .dataframe tbody tr th {\n",
       "        vertical-align: top;\n",
       "    }\n",
       "\n",
       "    .dataframe thead th {\n",
       "        text-align: right;\n",
       "    }\n",
       "</style>\n",
       "<table border=\"1\" class=\"dataframe\">\n",
       "  <thead>\n",
       "    <tr style=\"text-align: right;\">\n",
       "      <th></th>\n",
       "      <th>original_index</th>\n",
       "      <th>review_processada_sem_caracters</th>\n",
       "      <th>rating</th>\n",
       "    </tr>\n",
       "  </thead>\n",
       "  <tbody>\n",
       "    <tr>\n",
       "      <th>0</th>\n",
       "      <td>4_55516</td>\n",
       "      <td>estou muito satisfeito, o visor é melhor do qu...</td>\n",
       "      <td>4</td>\n",
       "    </tr>\n",
       "    <tr>\n",
       "      <th>1</th>\n",
       "      <td>minus_1_105339</td>\n",
       "      <td>muito boa o que gostei preco o que não gostei ...</td>\n",
       "      <td>5</td>\n",
       "    </tr>\n",
       "    <tr>\n",
       "      <th>2</th>\n",
       "      <td>23_382139</td>\n",
       "      <td>rápida, ótima qualidade de impressão e fácil d...</td>\n",
       "      <td>5</td>\n",
       "    </tr>\n",
       "    <tr>\n",
       "      <th>3</th>\n",
       "      <td>2_446456</td>\n",
       "      <td>produto de ótima qualidade em todos os quesito</td>\n",
       "      <td>5</td>\n",
       "    </tr>\n",
       "    <tr>\n",
       "      <th>4</th>\n",
       "      <td>0_11324</td>\n",
       "      <td>precisava comprar uma tv compatível com meu dv...</td>\n",
       "      <td>5</td>\n",
       "    </tr>\n",
       "    <tr>\n",
       "      <th>...</th>\n",
       "      <td>...</td>\n",
       "      <td>...</td>\n",
       "      <td>...</td>\n",
       "    </tr>\n",
       "    <tr>\n",
       "      <th>84984</th>\n",
       "      <td>0_423318</td>\n",
       "      <td>excelente custobenefício apresentado por este ...</td>\n",
       "      <td>5</td>\n",
       "    </tr>\n",
       "    <tr>\n",
       "      <th>84985</th>\n",
       "      <td>0_260195</td>\n",
       "      <td>game muito legal, com uma grande variedade de ...</td>\n",
       "      <td>5</td>\n",
       "    </tr>\n",
       "    <tr>\n",
       "      <th>84986</th>\n",
       "      <td>1_422965</td>\n",
       "      <td>produto muito bom, simples e barato</td>\n",
       "      <td>5</td>\n",
       "    </tr>\n",
       "    <tr>\n",
       "      <th>84988</th>\n",
       "      <td>0_414799</td>\n",
       "      <td>esse jogo é muito maneiro é um jogo onde vc te...</td>\n",
       "      <td>5</td>\n",
       "    </tr>\n",
       "    <tr>\n",
       "      <th>84990</th>\n",
       "      <td>0_476447</td>\n",
       "      <td>meu irmão possui um e acho excelente, estou ec...</td>\n",
       "      <td>5</td>\n",
       "    </tr>\n",
       "  </tbody>\n",
       "</table>\n",
       "<p>73626 rows × 3 columns</p>\n",
       "</div>"
      ],
      "text/plain": [
       "       original_index                    review_processada_sem_caracters  \\\n",
       "0             4_55516  estou muito satisfeito, o visor é melhor do qu...   \n",
       "1      minus_1_105339  muito boa o que gostei preco o que não gostei ...   \n",
       "2           23_382139  rápida, ótima qualidade de impressão e fácil d...   \n",
       "3            2_446456     produto de ótima qualidade em todos os quesito   \n",
       "4             0_11324  precisava comprar uma tv compatível com meu dv...   \n",
       "...               ...                                                ...   \n",
       "84984        0_423318  excelente custobenefício apresentado por este ...   \n",
       "84985        0_260195  game muito legal, com uma grande variedade de ...   \n",
       "84986        1_422965                produto muito bom, simples e barato   \n",
       "84988        0_414799  esse jogo é muito maneiro é um jogo onde vc te...   \n",
       "84990        0_476447  meu irmão possui um e acho excelente, estou ec...   \n",
       "\n",
       "       rating  \n",
       "0           4  \n",
       "1           5  \n",
       "2           5  \n",
       "3           5  \n",
       "4           5  \n",
       "...       ...  \n",
       "84984       5  \n",
       "84985       5  \n",
       "84986       5  \n",
       "84988       5  \n",
       "84990       5  \n",
       "\n",
       "[73626 rows x 3 columns]"
      ]
     },
     "execution_count": 16,
     "metadata": {},
     "output_type": "execute_result"
    }
   ],
   "source": [
    "dados"
   ]
  },
  {
   "cell_type": "markdown",
   "metadata": {
    "id": "uxctsQVfRPAa"
   },
   "source": [
    "Verificando instancias com avaliações igual a 3"
   ]
  },
  {
   "cell_type": "code",
   "execution_count": 17,
   "metadata": {
    "colab": {
     "base_uri": "https://localhost:8080/"
    },
    "id": "yiuaGmT9Qt7o",
    "outputId": "c29a70c8-f89f-49fa-fd7d-141a2dccddc6",
    "tags": []
   },
   "outputs": [
    {
     "data": {
      "text/plain": [
       "0"
      ]
     },
     "execution_count": 17,
     "metadata": {},
     "output_type": "execute_result"
    }
   ],
   "source": [
    "rating_3 = dados['rating'] == 3\n",
    "rating_3.sum()"
   ]
  },
  {
   "cell_type": "markdown",
   "metadata": {
    "id": "OkaGrtc8Rdv6"
   },
   "source": [
    "O dataset original contém 84991 instâncias, 11364 tem avaliações igual a 3 que serão desconsideradas, restando um total de 73626."
   ]
  },
  {
   "cell_type": "markdown",
   "metadata": {
    "id": "lnNg2e1TZeP-"
   },
   "source": [
    "Bibliotecas relacionadas a preparação dos dados"
   ]
  },
  {
   "cell_type": "code",
   "execution_count": 19,
   "metadata": {
    "id": "OuqRG6J955gT",
    "tags": []
   },
   "outputs": [],
   "source": [
    "from sklearn.feature_extraction.text import TfidfVectorizer\n",
    "from sklearn.preprocessing import LabelEncoder\n",
    "from sklearn.model_selection import train_test_split"
   ]
  },
  {
   "cell_type": "markdown",
   "metadata": {
    "id": "W5WHutgwfkBF"
   },
   "source": [
    "Dividindo 90% do dataset para treino e 10% para teste "
   ]
  },
  {
   "cell_type": "code",
   "execution_count": 94,
   "metadata": {
    "colab": {
     "base_uri": "https://localhost:8080/",
     "height": 202
    },
    "id": "x2TTofSzebTe",
    "outputId": "db265bce-8d15-4436-f361-17f0a385a4ac",
    "tags": []
   },
   "outputs": [
    {
     "name": "stdout",
     "output_type": "stream",
     "text": [
      "Instâncias de treino: 36813\n",
      "Instâncias de teste: 36813\n"
     ]
    }
   ],
   "source": [
    "dados_treinamento, dados_teste = train_test_split(dados, test_size=0.5, random_state=42)\n",
    "print('Instâncias de treino:', dados_treinamento.shape[0])\n",
    "print('Instâncias de teste:', dados_teste.shape[0])"
   ]
  },
  {
   "cell_type": "code",
   "execution_count": 105,
   "metadata": {
    "tags": []
   },
   "outputs": [],
   "source": [
    "#TfidfVectorizer(stop_words='english', lowercase=True, norm='l1')\n",
    "vectorizer = TfidfVectorizer(min_df=10, max_df=0.9)\n",
    "train_tfidf = vectorizer.fit_transform(dados_treinamento['review_processada_sem_caracters'])"
   ]
  },
  {
   "cell_type": "code",
   "execution_count": 106,
   "metadata": {
    "tags": []
   },
   "outputs": [],
   "source": [
    "x = pd.DataFrame(train_tfidf.todense())"
   ]
  },
  {
   "cell_type": "code",
   "execution_count": 107,
   "metadata": {
    "tags": []
   },
   "outputs": [
    {
     "data": {
      "text/plain": [
       "(36813, 6114)"
      ]
     },
     "execution_count": 107,
     "metadata": {},
     "output_type": "execute_result"
    }
   ],
   "source": [
    "x.shape"
   ]
  },
  {
   "cell_type": "code",
   "execution_count": 103,
   "metadata": {
    "tags": []
   },
   "outputs": [],
   "source": [
    "import tensorflow as tf\n",
    "from tensorflow.feature_column import sequence_numeric_column\n",
    "from tensorflow.keras.experimental import SequenceFeatures\n",
    "from keras.utils import np_utils\n",
    "from keras.models import Sequential, Model, load_model\n",
    "from keras.layers import Dense, Input, Activation, Conv1D, Dropout, MaxPooling1D, Flatten, Concatenate, Reshape\n",
    "from keras.callbacks import ModelCheckpoint, EarlyStopping"
   ]
  },
  {
   "cell_type": "code",
   "execution_count": 104,
   "metadata": {
    "tags": []
   },
   "outputs": [
    {
     "name": "stdout",
     "output_type": "stream",
     "text": [
      "(36813, 4)\n"
     ]
    }
   ],
   "source": [
    "lb = LabelEncoder()\n",
    "y = lb.fit_transform(dados_treinamento.rating)\n",
    "y = np_utils.to_categorical(y)\n",
    "print(y.shape)"
   ]
  },
  {
   "cell_type": "code",
   "execution_count": 108,
   "metadata": {
    "tags": []
   },
   "outputs": [
    {
     "name": "stdout",
     "output_type": "stream",
     "text": [
      "(29450, 6114) (29450, 4) (7363, 6114) (7363, 4)\n"
     ]
    }
   ],
   "source": [
    "seed = 29\n",
    "x_train, x_val, y_train, y_val = train_test_split(x, y, test_size=0.2, random_state=seed)\n",
    "print(x_train.shape, y_train.shape, x_val.shape, y_val.shape)"
   ]
  },
  {
   "cell_type": "code",
   "execution_count": 109,
   "metadata": {
    "tags": []
   },
   "outputs": [
    {
     "name": "stdout",
     "output_type": "stream",
     "text": [
      "Model: \"sequential\"\n",
      "_________________________________________________________________\n",
      " Layer (type)                Output Shape              Param #   \n",
      "=================================================================\n",
      " dense (Dense)               (None, 512)               3130880   \n",
      "                                                                 \n",
      " dropout (Dropout)           (None, 512)               0         \n",
      "                                                                 \n",
      " dense_1 (Dense)             (None, 4)                 2052      \n",
      "                                                                 \n",
      "=================================================================\n",
      "Total params: 3,132,932\n",
      "Trainable params: 3,132,932\n",
      "Non-trainable params: 0\n",
      "_________________________________________________________________\n"
     ]
    }
   ],
   "source": [
    "mlp_model = Sequential()\n",
    "mlp_model.add(Dense(512, input_shape=(6114, ), activation='relu'))\n",
    "mlp_model.add(Dropout(0.5))\n",
    "mlp_model.add(Dense(y_train.shape[1], activation='softmax'))\n",
    "mlp_model.compile(loss='categorical_crossentropy', optimizer='adam', metrics=['accuracy'])\n",
    "mlp_model.summary()"
   ]
  },
  {
   "cell_type": "code",
   "execution_count": 110,
   "metadata": {
    "tags": []
   },
   "outputs": [
    {
     "name": "stdout",
     "output_type": "stream",
     "text": [
      "Epoch 1/30\n",
      "920/921 [============================>.] - ETA: 0s - loss: 0.8072 - accuracy: 0.6292WARNING:tensorflow:Can save best model only with val_acc available, skipping.\n",
      "WARNING:tensorflow:Early stopping conditioned on metric `val_acc` which is not available. Available metrics are: loss,accuracy,val_loss,val_accuracy\n",
      "921/921 [==============================] - 35s 37ms/step - loss: 0.8073 - accuracy: 0.6291 - val_loss: 0.7447 - val_accuracy: 0.6583\n",
      "Epoch 2/30\n",
      "921/921 [==============================] - ETA: 0s - loss: 0.6524 - accuracy: 0.7131WARNING:tensorflow:Can save best model only with val_acc available, skipping.\n",
      "WARNING:tensorflow:Early stopping conditioned on metric `val_acc` which is not available. Available metrics are: loss,accuracy,val_loss,val_accuracy\n",
      "921/921 [==============================] - 35s 38ms/step - loss: 0.6524 - accuracy: 0.7131 - val_loss: 0.7438 - val_accuracy: 0.6563\n",
      "Epoch 3/30\n",
      "921/921 [==============================] - ETA: 0s - loss: 0.5637 - accuracy: 0.7569WARNING:tensorflow:Can save best model only with val_acc available, skipping.\n",
      "WARNING:tensorflow:Early stopping conditioned on metric `val_acc` which is not available. Available metrics are: loss,accuracy,val_loss,val_accuracy\n",
      "921/921 [==============================] - 35s 38ms/step - loss: 0.5637 - accuracy: 0.7569 - val_loss: 0.7787 - val_accuracy: 0.6584\n",
      "Epoch 4/30\n",
      "921/921 [==============================] - ETA: 0s - loss: 0.4759 - accuracy: 0.8032WARNING:tensorflow:Can save best model only with val_acc available, skipping.\n",
      "WARNING:tensorflow:Early stopping conditioned on metric `val_acc` which is not available. Available metrics are: loss,accuracy,val_loss,val_accuracy\n",
      "921/921 [==============================] - 35s 38ms/step - loss: 0.4759 - accuracy: 0.8032 - val_loss: 0.8290 - val_accuracy: 0.6476\n",
      "Epoch 5/30\n",
      "921/921 [==============================] - ETA: 0s - loss: 0.3881 - accuracy: 0.8499WARNING:tensorflow:Can save best model only with val_acc available, skipping.\n",
      "WARNING:tensorflow:Early stopping conditioned on metric `val_acc` which is not available. Available metrics are: loss,accuracy,val_loss,val_accuracy\n",
      "921/921 [==============================] - 35s 38ms/step - loss: 0.3881 - accuracy: 0.8499 - val_loss: 0.8901 - val_accuracy: 0.6442\n",
      "Epoch 6/30\n",
      "921/921 [==============================] - ETA: 0s - loss: 0.3127 - accuracy: 0.8848WARNING:tensorflow:Can save best model only with val_acc available, skipping.\n",
      "WARNING:tensorflow:Early stopping conditioned on metric `val_acc` which is not available. Available metrics are: loss,accuracy,val_loss,val_accuracy\n",
      "921/921 [==============================] - 35s 38ms/step - loss: 0.3127 - accuracy: 0.8848 - val_loss: 0.9731 - val_accuracy: 0.6378\n",
      "Epoch 7/30\n",
      "921/921 [==============================] - ETA: 0s - loss: 0.2484 - accuracy: 0.9129WARNING:tensorflow:Can save best model only with val_acc available, skipping.\n",
      "WARNING:tensorflow:Early stopping conditioned on metric `val_acc` which is not available. Available metrics are: loss,accuracy,val_loss,val_accuracy\n",
      "921/921 [==============================] - 34s 37ms/step - loss: 0.2484 - accuracy: 0.9129 - val_loss: 1.0486 - val_accuracy: 0.6280\n",
      "Epoch 8/30\n",
      "921/921 [==============================] - ETA: 0s - loss: 0.1982 - accuracy: 0.9325WARNING:tensorflow:Can save best model only with val_acc available, skipping.\n",
      "WARNING:tensorflow:Early stopping conditioned on metric `val_acc` which is not available. Available metrics are: loss,accuracy,val_loss,val_accuracy\n",
      "921/921 [==============================] - 35s 38ms/step - loss: 0.1982 - accuracy: 0.9325 - val_loss: 1.1342 - val_accuracy: 0.6330\n",
      "Epoch 9/30\n",
      "921/921 [==============================] - ETA: 0s - loss: 0.1647 - accuracy: 0.9445WARNING:tensorflow:Can save best model only with val_acc available, skipping.\n",
      "WARNING:tensorflow:Early stopping conditioned on metric `val_acc` which is not available. Available metrics are: loss,accuracy,val_loss,val_accuracy\n",
      "921/921 [==============================] - 34s 37ms/step - loss: 0.1647 - accuracy: 0.9445 - val_loss: 1.2114 - val_accuracy: 0.6272\n",
      "Epoch 10/30\n",
      "921/921 [==============================] - ETA: 0s - loss: 0.1405 - accuracy: 0.9527WARNING:tensorflow:Can save best model only with val_acc available, skipping.\n",
      "WARNING:tensorflow:Early stopping conditioned on metric `val_acc` which is not available. Available metrics are: loss,accuracy,val_loss,val_accuracy\n",
      "921/921 [==============================] - 35s 38ms/step - loss: 0.1405 - accuracy: 0.9527 - val_loss: 1.3049 - val_accuracy: 0.6241\n",
      "Epoch 11/30\n",
      "921/921 [==============================] - ETA: 0s - loss: 0.1251 - accuracy: 0.9576WARNING:tensorflow:Can save best model only with val_acc available, skipping.\n",
      "WARNING:tensorflow:Early stopping conditioned on metric `val_acc` which is not available. Available metrics are: loss,accuracy,val_loss,val_accuracy\n",
      "921/921 [==============================] - 37s 40ms/step - loss: 0.1251 - accuracy: 0.9576 - val_loss: 1.3716 - val_accuracy: 0.6252\n",
      "Epoch 12/30\n",
      "921/921 [==============================] - ETA: 0s - loss: 0.1090 - accuracy: 0.9626WARNING:tensorflow:Can save best model only with val_acc available, skipping.\n",
      "WARNING:tensorflow:Early stopping conditioned on metric `val_acc` which is not available. Available metrics are: loss,accuracy,val_loss,val_accuracy\n",
      "921/921 [==============================] - 35s 38ms/step - loss: 0.1090 - accuracy: 0.9626 - val_loss: 1.4444 - val_accuracy: 0.6242\n",
      "Epoch 13/30\n",
      "920/921 [============================>.] - ETA: 0s - loss: 0.0980 - accuracy: 0.9676WARNING:tensorflow:Can save best model only with val_acc available, skipping.\n",
      "WARNING:tensorflow:Early stopping conditioned on metric `val_acc` which is not available. Available metrics are: loss,accuracy,val_loss,val_accuracy\n",
      "921/921 [==============================] - 37s 40ms/step - loss: 0.0980 - accuracy: 0.9676 - val_loss: 1.5207 - val_accuracy: 0.6212\n",
      "Epoch 14/30\n",
      "920/921 [============================>.] - ETA: 0s - loss: 0.0901 - accuracy: 0.9691WARNING:tensorflow:Can save best model only with val_acc available, skipping.\n",
      "WARNING:tensorflow:Early stopping conditioned on metric `val_acc` which is not available. Available metrics are: loss,accuracy,val_loss,val_accuracy\n",
      "921/921 [==============================] - 35s 39ms/step - loss: 0.0901 - accuracy: 0.9691 - val_loss: 1.5699 - val_accuracy: 0.6243\n",
      "Epoch 15/30\n",
      "921/921 [==============================] - ETA: 0s - loss: 0.0848 - accuracy: 0.9716WARNING:tensorflow:Can save best model only with val_acc available, skipping.\n",
      "WARNING:tensorflow:Early stopping conditioned on metric `val_acc` which is not available. Available metrics are: loss,accuracy,val_loss,val_accuracy\n",
      "921/921 [==============================] - 36s 39ms/step - loss: 0.0848 - accuracy: 0.9716 - val_loss: 1.6444 - val_accuracy: 0.6237\n",
      "Epoch 16/30\n",
      "921/921 [==============================] - ETA: 0s - loss: 0.0799 - accuracy: 0.9721WARNING:tensorflow:Can save best model only with val_acc available, skipping.\n",
      "WARNING:tensorflow:Early stopping conditioned on metric `val_acc` which is not available. Available metrics are: loss,accuracy,val_loss,val_accuracy\n",
      "921/921 [==============================] - 36s 39ms/step - loss: 0.0799 - accuracy: 0.9721 - val_loss: 1.6960 - val_accuracy: 0.6208\n",
      "Epoch 17/30\n",
      "921/921 [==============================] - ETA: 0s - loss: 0.0755 - accuracy: 0.9742WARNING:tensorflow:Can save best model only with val_acc available, skipping.\n",
      "WARNING:tensorflow:Early stopping conditioned on metric `val_acc` which is not available. Available metrics are: loss,accuracy,val_loss,val_accuracy\n",
      "921/921 [==============================] - 36s 39ms/step - loss: 0.0755 - accuracy: 0.9742 - val_loss: 1.7180 - val_accuracy: 0.6189\n",
      "Epoch 18/30\n",
      "920/921 [============================>.] - ETA: 0s - loss: 0.0711 - accuracy: 0.9748WARNING:tensorflow:Can save best model only with val_acc available, skipping.\n",
      "WARNING:tensorflow:Early stopping conditioned on metric `val_acc` which is not available. Available metrics are: loss,accuracy,val_loss,val_accuracy\n",
      "921/921 [==============================] - 37s 40ms/step - loss: 0.0711 - accuracy: 0.9748 - val_loss: 1.7725 - val_accuracy: 0.6207\n",
      "Epoch 19/30\n",
      "920/921 [============================>.] - ETA: 0s - loss: 0.0697 - accuracy: 0.9751WARNING:tensorflow:Can save best model only with val_acc available, skipping.\n",
      "WARNING:tensorflow:Early stopping conditioned on metric `val_acc` which is not available. Available metrics are: loss,accuracy,val_loss,val_accuracy\n",
      "921/921 [==============================] - 37s 40ms/step - loss: 0.0697 - accuracy: 0.9751 - val_loss: 1.8125 - val_accuracy: 0.6181\n",
      "Epoch 20/30\n",
      "920/921 [============================>.] - ETA: 0s - loss: 0.0660 - accuracy: 0.9766WARNING:tensorflow:Can save best model only with val_acc available, skipping.\n",
      "WARNING:tensorflow:Early stopping conditioned on metric `val_acc` which is not available. Available metrics are: loss,accuracy,val_loss,val_accuracy\n",
      "921/921 [==============================] - 35s 38ms/step - loss: 0.0660 - accuracy: 0.9765 - val_loss: 1.8519 - val_accuracy: 0.6196\n",
      "Epoch 21/30\n",
      "921/921 [==============================] - ETA: 0s - loss: 0.0650 - accuracy: 0.9765WARNING:tensorflow:Can save best model only with val_acc available, skipping.\n",
      "WARNING:tensorflow:Early stopping conditioned on metric `val_acc` which is not available. Available metrics are: loss,accuracy,val_loss,val_accuracy\n",
      "921/921 [==============================] - 36s 39ms/step - loss: 0.0650 - accuracy: 0.9765 - val_loss: 1.8931 - val_accuracy: 0.6207\n",
      "Epoch 22/30\n",
      "921/921 [==============================] - ETA: 0s - loss: 0.0625 - accuracy: 0.9769WARNING:tensorflow:Can save best model only with val_acc available, skipping.\n",
      "WARNING:tensorflow:Early stopping conditioned on metric `val_acc` which is not available. Available metrics are: loss,accuracy,val_loss,val_accuracy\n",
      "921/921 [==============================] - 37s 40ms/step - loss: 0.0625 - accuracy: 0.9769 - val_loss: 1.9443 - val_accuracy: 0.6219\n",
      "Epoch 23/30\n",
      "920/921 [============================>.] - ETA: 0s - loss: 0.0588 - accuracy: 0.9791WARNING:tensorflow:Can save best model only with val_acc available, skipping.\n",
      "WARNING:tensorflow:Early stopping conditioned on metric `val_acc` which is not available. Available metrics are: loss,accuracy,val_loss,val_accuracy\n",
      "921/921 [==============================] - 37s 40ms/step - loss: 0.0588 - accuracy: 0.9792 - val_loss: 2.0245 - val_accuracy: 0.6190\n",
      "Epoch 24/30\n",
      "920/921 [============================>.] - ETA: 0s - loss: 0.0599 - accuracy: 0.9781WARNING:tensorflow:Can save best model only with val_acc available, skipping.\n",
      "WARNING:tensorflow:Early stopping conditioned on metric `val_acc` which is not available. Available metrics are: loss,accuracy,val_loss,val_accuracy\n",
      "921/921 [==============================] - 36s 39ms/step - loss: 0.0599 - accuracy: 0.9780 - val_loss: 2.0331 - val_accuracy: 0.6192\n",
      "Epoch 25/30\n",
      "920/921 [============================>.] - ETA: 0s - loss: 0.0575 - accuracy: 0.9797WARNING:tensorflow:Can save best model only with val_acc available, skipping.\n",
      "WARNING:tensorflow:Early stopping conditioned on metric `val_acc` which is not available. Available metrics are: loss,accuracy,val_loss,val_accuracy\n",
      "921/921 [==============================] - 36s 39ms/step - loss: 0.0574 - accuracy: 0.9797 - val_loss: 2.0688 - val_accuracy: 0.6196\n",
      "Epoch 26/30\n",
      "921/921 [==============================] - ETA: 0s - loss: 0.0556 - accuracy: 0.9788WARNING:tensorflow:Can save best model only with val_acc available, skipping.\n",
      "WARNING:tensorflow:Early stopping conditioned on metric `val_acc` which is not available. Available metrics are: loss,accuracy,val_loss,val_accuracy\n",
      "921/921 [==============================] - 36s 39ms/step - loss: 0.0556 - accuracy: 0.9788 - val_loss: 2.1116 - val_accuracy: 0.6219\n",
      "Epoch 27/30\n",
      "921/921 [==============================] - ETA: 0s - loss: 0.0531 - accuracy: 0.9798WARNING:tensorflow:Can save best model only with val_acc available, skipping.\n",
      "WARNING:tensorflow:Early stopping conditioned on metric `val_acc` which is not available. Available metrics are: loss,accuracy,val_loss,val_accuracy\n",
      "921/921 [==============================] - 37s 40ms/step - loss: 0.0531 - accuracy: 0.9798 - val_loss: 2.1334 - val_accuracy: 0.6207\n",
      "Epoch 28/30\n",
      "921/921 [==============================] - ETA: 0s - loss: 0.0525 - accuracy: 0.9807WARNING:tensorflow:Can save best model only with val_acc available, skipping.\n",
      "WARNING:tensorflow:Early stopping conditioned on metric `val_acc` which is not available. Available metrics are: loss,accuracy,val_loss,val_accuracy\n",
      "921/921 [==============================] - 36s 39ms/step - loss: 0.0525 - accuracy: 0.9807 - val_loss: 2.1915 - val_accuracy: 0.6239\n",
      "Epoch 29/30\n",
      "920/921 [============================>.] - ETA: 0s - loss: 0.0516 - accuracy: 0.9806WARNING:tensorflow:Can save best model only with val_acc available, skipping.\n",
      "WARNING:tensorflow:Early stopping conditioned on metric `val_acc` which is not available. Available metrics are: loss,accuracy,val_loss,val_accuracy\n",
      "921/921 [==============================] - 37s 40ms/step - loss: 0.0516 - accuracy: 0.9806 - val_loss: 2.2058 - val_accuracy: 0.6162\n",
      "Epoch 30/30\n",
      "921/921 [==============================] - ETA: 0s - loss: 0.0542 - accuracy: 0.9809WARNING:tensorflow:Can save best model only with val_acc available, skipping.\n",
      "WARNING:tensorflow:Early stopping conditioned on metric `val_acc` which is not available. Available metrics are: loss,accuracy,val_loss,val_accuracy\n",
      "921/921 [==============================] - 36s 39ms/step - loss: 0.0542 - accuracy: 0.9809 - val_loss: 2.1839 - val_accuracy: 0.6163\n"
     ]
    }
   ],
   "source": [
    "file_path = \"mlp.weights.best.hdf5\"\n",
    "\n",
    "check_point = ModelCheckpoint(\n",
    "    monitor=\"val_acc\",\n",
    "    mode=\"max\",\n",
    "    filepath=file_path,\n",
    "    verbose=1, \n",
    "    save_best_only=True)\n",
    "\n",
    "early_stop = EarlyStopping(\n",
    "    monitor=\"val_acc\", \n",
    "    mode=\"max\", \n",
    "    patience=5)\n",
    "\n",
    "mlp_history = mlp_model.fit(\n",
    "                      x_train, \n",
    "                      y_train,\n",
    "                      validation_data=(x_val, y_val),\n",
    "                      #batch_size=64,\n",
    "                      epochs=30, \n",
    "                      #shuffle=True,\n",
    "                      callbacks=[check_point, early_stop]\n",
    ")"
   ]
  },
  {
   "cell_type": "code",
   "execution_count": 112,
   "metadata": {
    "tags": []
   },
   "outputs": [
    {
     "data": {
      "image/png": "[encoded data removed]",
      "text/plain": [
       "<Figure size 800x500 with 1 Axes>"
      ]
     },
     "metadata": {},
     "output_type": "display_data"
    }
   ],
   "source": [
    "import matplotlib.pyplot as plt\n",
    "\n",
    "pd.DataFrame(mlp_history.history).plot(figsize=(8,5))\n",
    "plt.grid(True)\n",
    "plt.gca().set_ylim(0,3)\n",
    "plt.show()"
   ]
  },
  {
   "cell_type": "code",
   "execution_count": null,
   "metadata": {},
   "outputs": [],
   "source": []
  }
 ],
 "metadata": {
  "colab": {
   "provenance": []
  },
  "kernelspec": {
   "display_name": "Python 3 (ipykernel)",
   "language": "python",
   "name": "python3"
  },
  "language_info": {
   "codemirror_mode": {
    "name": "ipython",
    "version": 3
   },
   "file_extension": ".py",
   "mimetype": "text/x-python",
   "name": "python",
   "nbconvert_exporter": "python",
   "pygments_lexer": "ipython3",
   "version": "3.10.11"
  }
 },
 "nbformat": 4,
 "nbformat_minor": 4
}
